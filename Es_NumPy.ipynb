{
 "cells": [
  {
   "cell_type": "code",
   "execution_count": 1,
   "id": "438ca561",
   "metadata": {},
   "outputs": [],
   "source": [
    "#Importo NumPy"
   ]
  },
  {
   "cell_type": "code",
   "execution_count": 2,
   "id": "9802055c",
   "metadata": {},
   "outputs": [],
   "source": [
    "import numpy as np"
   ]
  },
  {
   "cell_type": "code",
   "execution_count": 3,
   "id": "2ccfc2ac",
   "metadata": {},
   "outputs": [],
   "source": [
    "from numpy import mean, std"
   ]
  },
  {
   "cell_type": "code",
   "execution_count": 4,
   "id": "a97f0755",
   "metadata": {},
   "outputs": [],
   "source": [
    "v = np.array([1,2,4,3,5])\n",
    "a = np.array([[1,2],[3,4]])\n",
    "b = np.array([[5,6],[7,8]])"
   ]
  },
  {
   "cell_type": "code",
   "execution_count": 5,
   "id": "912a0e6b",
   "metadata": {},
   "outputs": [],
   "source": [
    "#Visualizza size di v ed a"
   ]
  },
  {
   "cell_type": "code",
   "execution_count": 6,
   "id": "d8cc1aed",
   "metadata": {},
   "outputs": [
    {
     "name": "stdout",
     "output_type": "stream",
     "text": [
      "L'array v è composto da 5 elementi\n"
     ]
    }
   ],
   "source": [
    "print(\"L'array v è composto da \" + str(np.size(v)) + \" elementi\")"
   ]
  },
  {
   "cell_type": "code",
   "execution_count": 7,
   "id": "b9e113c5",
   "metadata": {},
   "outputs": [
    {
     "name": "stdout",
     "output_type": "stream",
     "text": [
      "L'array v è composto da 4 elementi\n"
     ]
    }
   ],
   "source": [
    "print(\"L'array v è composto da \" + str(np.size(a)) + \" elementi\")"
   ]
  },
  {
   "cell_type": "code",
   "execution_count": 8,
   "id": "ac2e3164",
   "metadata": {},
   "outputs": [],
   "source": [
    "#Visualizza shape di v ed a"
   ]
  },
  {
   "cell_type": "code",
   "execution_count": 9,
   "id": "700b970a",
   "metadata": {},
   "outputs": [
    {
     "name": "stdout",
     "output_type": "stream",
     "text": [
      "(5,)\n"
     ]
    }
   ],
   "source": [
    "print(np.shape(v))"
   ]
  },
  {
   "cell_type": "code",
   "execution_count": 10,
   "id": "d27f61c3",
   "metadata": {},
   "outputs": [
    {
     "name": "stdout",
     "output_type": "stream",
     "text": [
      "(2, 2)\n"
     ]
    }
   ],
   "source": [
    "print(np.shape(a))"
   ]
  },
  {
   "cell_type": "code",
   "execution_count": 11,
   "id": "0b5a9bf5",
   "metadata": {},
   "outputs": [],
   "source": [
    "#Calcola il massimo, minimo, media e deviazione standard degli elementi di v"
   ]
  },
  {
   "cell_type": "code",
   "execution_count": 12,
   "id": "6a32d7cf",
   "metadata": {},
   "outputs": [
    {
     "name": "stdout",
     "output_type": "stream",
     "text": [
      "L'elemento massimo dell'array v è 5\n"
     ]
    }
   ],
   "source": [
    "print(\"L'elemento massimo dell'array v è \" + str(np.max(v)))"
   ]
  },
  {
   "cell_type": "code",
   "execution_count": 13,
   "id": "05c67eae",
   "metadata": {},
   "outputs": [
    {
     "name": "stdout",
     "output_type": "stream",
     "text": [
      "L'elemento minimo dell'array v è 1\n"
     ]
    }
   ],
   "source": [
    "print(\"L'elemento minimo dell'array v è \" + str(np.min(v)))"
   ]
  },
  {
   "cell_type": "code",
   "execution_count": 14,
   "id": "ac035030",
   "metadata": {},
   "outputs": [
    {
     "name": "stdout",
     "output_type": "stream",
     "text": [
      "La media degli elementi dell'array v è 3.0\n"
     ]
    }
   ],
   "source": [
    "print(\"La media degli elementi dell'array v è \" + str(np.mean(v)))"
   ]
  },
  {
   "cell_type": "code",
   "execution_count": 15,
   "id": "e3018b66",
   "metadata": {},
   "outputs": [
    {
     "name": "stdout",
     "output_type": "stream",
     "text": [
      "La deviazione standard degli elementi dell'array v è 1.4142135623730951\n"
     ]
    }
   ],
   "source": [
    "print(\"La deviazione standard degli elementi dell'array v è \" + str(np.std(v)))"
   ]
  },
  {
   "cell_type": "code",
   "execution_count": 16,
   "id": "76ded12f",
   "metadata": {},
   "outputs": [],
   "source": [
    "#Ordina gli elementi di v"
   ]
  },
  {
   "cell_type": "code",
   "execution_count": 17,
   "id": "f5172960",
   "metadata": {},
   "outputs": [
    {
     "name": "stdout",
     "output_type": "stream",
     "text": [
      "[1 2 3 4 5]\n"
     ]
    }
   ],
   "source": [
    "print(np.sort(v))"
   ]
  },
  {
   "cell_type": "code",
   "execution_count": 18,
   "id": "6c0d64ed",
   "metadata": {},
   "outputs": [],
   "source": [
    "#Calcola il risultato delle operazioni +, -, *, / e ** tra le matrici a e b"
   ]
  },
  {
   "cell_type": "code",
   "execution_count": 20,
   "id": "7e949b8b",
   "metadata": {},
   "outputs": [
    {
     "name": "stdout",
     "output_type": "stream",
     "text": [
      "[[ 6  8]\n",
      " [10 12]]\n"
     ]
    }
   ],
   "source": [
    "print(a+b)"
   ]
  },
  {
   "cell_type": "code",
   "execution_count": 21,
   "id": "de28b863",
   "metadata": {},
   "outputs": [
    {
     "name": "stdout",
     "output_type": "stream",
     "text": [
      "[[-4 -4]\n",
      " [-4 -4]]\n"
     ]
    }
   ],
   "source": [
    "print(a-b)"
   ]
  },
  {
   "cell_type": "code",
   "execution_count": 22,
   "id": "2cbf19ff",
   "metadata": {},
   "outputs": [
    {
     "name": "stdout",
     "output_type": "stream",
     "text": [
      "[[ 5 12]\n",
      " [21 32]]\n"
     ]
    }
   ],
   "source": [
    "print(a*b)"
   ]
  },
  {
   "cell_type": "code",
   "execution_count": 23,
   "id": "589ead56",
   "metadata": {},
   "outputs": [
    {
     "name": "stdout",
     "output_type": "stream",
     "text": [
      "[[0.2        0.33333333]\n",
      " [0.42857143 0.5       ]]\n"
     ]
    }
   ],
   "source": [
    "print(a/b)"
   ]
  },
  {
   "cell_type": "code",
   "execution_count": 24,
   "id": "93b5ec9a",
   "metadata": {},
   "outputs": [
    {
     "name": "stdout",
     "output_type": "stream",
     "text": [
      "[[    1    64]\n",
      " [ 2187 65536]]\n"
     ]
    }
   ],
   "source": [
    "print(a**b)"
   ]
  },
  {
   "cell_type": "code",
   "execution_count": 25,
   "id": "5eb3a9ac",
   "metadata": {},
   "outputs": [],
   "source": [
    "#Crea un vettore con la sequenza 0-9."
   ]
  },
  {
   "cell_type": "code",
   "execution_count": null,
   "id": "c10df14a",
   "metadata": {},
   "outputs": [],
   "source": []
  }
 ],
 "metadata": {
  "kernelspec": {
   "display_name": "Python 3 (ipykernel)",
   "language": "python",
   "name": "python3"
  },
  "language_info": {
   "codemirror_mode": {
    "name": "ipython",
    "version": 3
   },
   "file_extension": ".py",
   "mimetype": "text/x-python",
   "name": "python",
   "nbconvert_exporter": "python",
   "pygments_lexer": "ipython3",
   "version": "3.9.13"
  }
 },
 "nbformat": 4,
 "nbformat_minor": 5
}
