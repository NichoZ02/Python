{
 "cells": [
  {
   "cell_type": "code",
   "execution_count": 1,
   "id": "08d2f4cb",
   "metadata": {},
   "outputs": [],
   "source": [
    "#Importo numpy\n",
    "\n",
    "import numpy as np\n",
    "from numpy import mean, std"
   ]
  },
  {
   "cell_type": "code",
   "execution_count": 2,
   "id": "e6d61b9d",
   "metadata": {},
   "outputs": [],
   "source": [
    "#Dati\n",
    "\n",
    "v = np.array([1,2,4,3,5])\n",
    "a = np.array([[1,2],[3,4]])\n",
    "b = np.array([[5,6],[7,8]])"
   ]
  },
  {
   "cell_type": "code",
   "execution_count": 3,
   "id": "31a35f46",
   "metadata": {},
   "outputs": [
    {
     "name": "stdout",
     "output_type": "stream",
     "text": [
      "L'array v è composto da 5 elementi\n",
      "\n",
      "L'array a è composto da 4 elementi\n",
      "\n",
      "L'array v è composto da (5,) elementi\n",
      "\n",
      "L'array v è composto da (2, 2) elementi\n",
      "\n"
     ]
    }
   ],
   "source": [
    "#1.1 - Visualizzare gli attibuti size e shape di v e a\n",
    "\n",
    "print(\"L'array v è composto da \" + str(np.size(v)) + \" elementi\" + \"\\n\")\n",
    "print(\"L'array a è composto da \" + str(np.size(a)) + \" elementi\" + \"\\n\")\n",
    "print(\"L'array v è composto da \" + str(np.shape(v)) + \" elementi\" + \"\\n\")\n",
    "print(\"L'array v è composto da \" + str(np.shape(a)) + \" elementi\" + \"\\n\")"
   ]
  },
  {
   "cell_type": "code",
   "execution_count": 4,
   "id": "dc3524d7",
   "metadata": {},
   "outputs": [
    {
     "name": "stdout",
     "output_type": "stream",
     "text": [
      "L'elemento massimo dell'array v è 5\n",
      "\n",
      "L'elemento minimo dell'array v è 1\n",
      "\n",
      "La media degli elementi dell'array v è 3.0\n",
      "\n",
      "La deviazione standard degli elementi dell'array v è 1.4142135623730951\n",
      "\n"
     ]
    }
   ],
   "source": [
    "#1.2 - Calcolare massimo, minimo, media e deviazione standard degli elementi di v\n",
    "\n",
    "print(\"L'elemento massimo dell'array v è \" + str(np.max(v)) + \"\\n\")\n",
    "print(\"L'elemento minimo dell'array v è \" + str(np.min(v)) + \"\\n\")\n",
    "print(\"La media degli elementi dell'array v è \" + str(np.mean(v)) + \"\\n\")\n",
    "print(\"La deviazione standard degli elementi dell'array v è \" + str(np.std(v)) + \"\\n\")"
   ]
  },
  {
   "cell_type": "code",
   "execution_count": 5,
   "id": "4361f4c3",
   "metadata": {},
   "outputs": [
    {
     "name": "stdout",
     "output_type": "stream",
     "text": [
      "L'array v è stato ordinato [1 2 3 4 5]\n"
     ]
    }
   ],
   "source": [
    "#1.3 - Ordinare gli elementi di v\n",
    "\n",
    "print(\"L'array v è stato ordinato \" + str(np.sort(v)))"
   ]
  },
  {
   "cell_type": "code",
   "execution_count": 6,
   "id": "b10f72e8",
   "metadata": {},
   "outputs": [
    {
     "name": "stdout",
     "output_type": "stream",
     "text": [
      "La somma delle matrici è [[ 6  8]\n",
      " [10 12]]\n",
      "\n",
      "La differenza delle matrici è [[-4 -4]\n",
      " [-4 -4]]\n",
      "\n",
      "Il prodotto delle matrici è [[ 5 12]\n",
      " [21 32]]\n",
      "\n",
      "La divisione delle matrici è [[0.2        0.33333333]\n",
      " [0.42857143 0.5       ]]\n",
      "\n",
      "La potenza delle matrici è [[    1    64]\n",
      " [ 2187 65536]]\n"
     ]
    }
   ],
   "source": [
    "#1.4 - Calcolare il risultato delle operazioni +, -, *, / e ** tra le matrici a e b\n",
    "\n",
    "print(\"La somma delle matrici è \" + str(a + b) + \"\\n\")\n",
    "print(\"La differenza delle matrici è \" + str(a - b) + \"\\n\")\n",
    "print(\"Il prodotto delle matrici è \" + str(a * b) + \"\\n\")\n",
    "print(\"La divisione delle matrici è \" + str(a / b) + \"\\n\")\n",
    "print(\"La potenza delle matrici è \" + str(a ** b))"
   ]
  },
  {
   "cell_type": "code",
   "execution_count": 7,
   "id": "227fcb10",
   "metadata": {},
   "outputs": [
    {
     "name": "stdout",
     "output_type": "stream",
     "text": [
      "Il vettore c ha i seguenti elementi [0 1 2 3 4 5 6 7 8 9]\n",
      "\n",
      "[ 3  6  9 12 15 18 21 24]\n"
     ]
    }
   ],
   "source": [
    "#1.6 - Creare un vettore con la sequenza 0-9. Creare un vettore con solo i multipli di 3 tra 3 e 27\n",
    "\n",
    "#La funzione arange() restituisce valori uniformemente distanziati all'interno di un determinato intervallo.\n",
    "\n",
    "n1 = 10\n",
    "#Valori generati con un mezzo intervallo [0, stop]. Include l'inizo ma non la fine\n",
    "c = np.arange(n1)\n",
    "print(\"Il vettore c ha i seguenti elementi \" + str(c) + \"\\n\")\n",
    "\n",
    "d = np.array([])\n",
    "#Valori generati all'interno dell'intervallo semiaperto [start, stop, step], con una distanza tra i valori data dal step.\n",
    "d = np.arange(3, 27, 3)\n",
    "\n",
    "print(d)"
   ]
  },
  {
   "cell_type": "code",
   "execution_count": 8,
   "id": "f85367b8",
   "metadata": {},
   "outputs": [
    {
     "name": "stdout",
     "output_type": "stream",
     "text": [
      "[[0, 0], [0, 0]]\n",
      "\n",
      "[[1, 1], [1, 1]]\n",
      "\n",
      "[[1 0]\n",
      " [0 1]]\n"
     ]
    }
   ],
   "source": [
    "#1.8 - Creare una matrice di tutti 0, una matrice di tutti 1 e una matrice diagonale (tutte di 2x2)\n",
    "\n",
    "m1 = [[0 for column in range(2)]for row in range(2)]\n",
    "m2 = [[1 for column in range(2)]for row in range(2)]\n",
    "m3 = np.zeros((2, 2), int) #Altro modo per creare una matrice con tutti 0\n",
    "np.fill_diagonal(m3, 1)\n",
    "\n",
    "print(str(m1) + \"\\n\")\n",
    "print(str(m2) + \"\\n\")\n",
    "print(m3)"
   ]
  },
  {
   "cell_type": "code",
   "execution_count": 9,
   "id": "a669d42e",
   "metadata": {},
   "outputs": [
    {
     "name": "stdout",
     "output_type": "stream",
     "text": [
      "[4 3 5]\n"
     ]
    }
   ],
   "source": [
    "#1.9 - Trovare ed estrarre solo gli elementi maggiori di 2 di v\n",
    "\n",
    "mask = v > 2\n",
    "result = v[mask]\n",
    "print(result)"
   ]
  },
  {
   "cell_type": "code",
   "execution_count": 10,
   "id": "48e807c9",
   "metadata": {},
   "outputs": [
    {
     "name": "stdout",
     "output_type": "stream",
     "text": [
      "[1 4]\n"
     ]
    }
   ],
   "source": [
    "#1.10 - Trovare ed estrarre solo gli elementi sulla diagonale di a\n",
    "\n",
    "result = np.diag(a)\n",
    "print(result)"
   ]
  },
  {
   "cell_type": "code",
   "execution_count": 11,
   "id": "c1ddb6fc",
   "metadata": {},
   "outputs": [],
   "source": [
    "#Importo matplolib\n",
    "\n",
    "from matplotlib import pyplot\n",
    "import matplotlib.pyplot as plt"
   ]
  },
  {
   "cell_type": "code",
   "execution_count": 12,
   "id": "d61fa554",
   "metadata": {},
   "outputs": [
    {
     "data": {
      "image/png": "[encoded data removed]",
      "text/plain": [
       "<Figure size 640x480 with 1 Axes>"
      ]
     },
     "metadata": {},
     "output_type": "display_data"
    }
   ],
   "source": [
    "#2.1 Disegna grafico\n",
    "\n",
    "#Genera grafico\n",
    "plt.plot([1, 2, 3], label=\"esempio\", color=\"red\") \n",
    "\n",
    "#Imposta legenda\n",
    "plt.legend(loc='best') \n",
    "\n",
    "#Minimo e massimo assi X e Y\n",
    "plt.axis([-1, 7, -5, 4])\n",
    "# Assegna nome agli assi\n",
    "plt.ylabel('asse y')\n",
    "plt.xlabel('asse x')\n",
    "plt.show()"
   ]
  }
 ],
 "metadata": {
  "kernelspec": {
   "display_name": "Python 3 (ipykernel)",
   "language": "python",
   "name": "python3"
  },
  "language_info": {
   "codemirror_mode": {
    "name": "ipython",
    "version": 3
   },
   "file_extension": ".py",
   "mimetype": "text/x-python",
   "name": "python",
   "nbconvert_exporter": "python",
   "pygments_lexer": "ipython3",
   "version": "3.9.13"
  }
 },
 "nbformat": 4,
 "nbformat_minor": 5
}
