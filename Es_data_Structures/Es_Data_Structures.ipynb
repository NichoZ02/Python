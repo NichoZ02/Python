{
 "cells": [
  {
   "cell_type": "code",
   "execution_count": 1,
   "id": "d6d61b7e",
   "metadata": {},
   "outputs": [
    {
     "name": "stdout",
     "output_type": "stream",
     "text": [
      "[2, 3, 4, 5]\n",
      "\n",
      "[2, 5]\n"
     ]
    }
   ],
   "source": [
    "#Lista - 1 - Create una lista e provate a usare l'operatore “del” su una slice\n",
    "\n",
    "list =  [1, 2, 3, 4, 5]\n",
    "\n",
    "#Slice - Affetta la sequenza, specificando anche il punto di inzio e di fine. Restituisce un oggetto slice.\n",
    "\n",
    "sublist = list[1:5]\n",
    "print(str(sublist) + \"\\n\")\n",
    "\n",
    "#Del - Cancella gli elementi, specificando anche il punto di inzio e di fine.\n",
    "\n",
    "del sublist[1:3]\n",
    "print(sublist)"
   ]
  },
  {
   "cell_type": "code",
   "execution_count": 2,
   "id": "ee0fa44d",
   "metadata": {},
   "outputs": [
    {
     "name": "stdout",
     "output_type": "stream",
     "text": [
      "Lista 1: ['Nicholas', 'Fabio', 'Alessandro']\n",
      "\n",
      "Lista 1: ['Nicholas', 'Nicholas', 'Fabio', 'Alessandro']\n",
      "\n",
      "2\n",
      "\n",
      "Lista 2: ['Federica', 'Laura', 'Andrea']\n",
      "Lista unita: ['Nicholas', 'Nicholas', 'Fabio', 'Alessandro', 'Federica', 'Laura', 'Andrea']\n",
      "\n",
      "4\n",
      "\n",
      "['Nicholas', 'Nicholas', 'Laura', 'Federica', 'Fabio', 'Andrea', 'Alessandro']\n",
      "['Alessandro', 'Andrea', 'Fabio', 'Federica', 'Laura', 'Nicholas', 'Nicholas']\n",
      "\n",
      "['Alessandro', 'Andrea', 'Fabio', 'Federica', 'Laura', 'Nicholas']\n",
      "\n"
     ]
    }
   ],
   "source": [
    "#Lista - 2 - Create una lista e provate ad utilizzare i metodi: insert(), count(), extend(), index(), sort(), remove()\n",
    "\n",
    "list = [\"Nicholas\", \"Fabio\", \"Alessandro\"]\n",
    "print(\"Lista 1: \" + str(list) + \"\\n\")\n",
    "\n",
    "#Insert - Inserisce un elemento nella lista in una specifica posizione\n",
    "\n",
    "list.insert(1, \"Nicholas\")\n",
    "print(\"Lista 1: \" + str(list) + \"\\n\")\n",
    "\n",
    "#Count - Restituisce il numero di elementi con il valore specificato\n",
    "\n",
    "print(str(list.count(\"Nicholas\")) + \"\\n\")\n",
    "\n",
    "#Extend - Aggiunge tutti gli elementi di un iterabile(lista, tupla, stringa, ecc...) alla fine della lista\n",
    "\n",
    "list2 = [\"Federica\", \"Laura\", \"Andrea\"]\n",
    "print(\"Lista 2: \" + str(list2))\n",
    "list.extend(list2)\n",
    "print(\"Lista unita: \" + str(list) + \"\\n\")\n",
    "\n",
    "#Index - Restituisce l'indice dell'elemento dato nella lista, viene lanciato un ValueError. \n",
    "\n",
    "print(str(list.index(\"Federica\")) + \"\\n\")\n",
    "\n",
    "#Sort - Ordina la lista. Si può anche creare una funzione per decidere i criteri di ordinamento\n",
    "\n",
    "list = sorted(list, reverse=True) #Ordine discendente\n",
    "print(list)\n",
    "list = sorted(list, reverse=False) #Ordine ascendente\n",
    "print(str(list) + \"\\n\")\n",
    "\n",
    "#Remove - Prende come argomento un singolo elemento e lo toglie dalla lista\n",
    "\n",
    "list.remove(\"Nicholas\")\n",
    "print(str(list) + \"\\n\")"
   ]
  },
  {
   "cell_type": "code",
   "execution_count": 3,
   "id": "ec68af1b",
   "metadata": {},
   "outputs": [
    {
     "name": "stdout",
     "output_type": "stream",
     "text": [
      "(2, 3, 4, 5)\n",
      "\n"
     ]
    }
   ],
   "source": [
    "#Tupla - 1 - Create una tupla e provate a fare un'operazione di slicing\n",
    "\n",
    "my_tuple = (1,2,3,4,5,6,7)\n",
    "sliced_tuple = my_tuple[1:5]\n",
    "print(str(sliced_tuple) + \"\\n\")"
   ]
  },
  {
   "cell_type": "code",
   "execution_count": 4,
   "id": "c2fc58d6",
   "metadata": {},
   "outputs": [
    {
     "name": "stdout",
     "output_type": "stream",
     "text": [
      "<class 'int'>\n",
      "\n",
      "<class 'tuple'>\n"
     ]
    }
   ],
   "source": [
    "#Tupla - 2 - Provate a chiamare la funzione type() sui seguenti due oggetti: tupla_test = (11), tupla_test = (11,)\n",
    "\n",
    "tupla_test = (11)\n",
    "print(str(type(tupla_test)) + \"\\n\")\n",
    "tupla_test = (11,)\n",
    "print(type(tupla_test))"
   ]
  },
  {
   "cell_type": "code",
   "execution_count": 5,
   "id": "cd0f38fc",
   "metadata": {},
   "outputs": [
    {
     "name": "stdout",
     "output_type": "stream",
     "text": [
      "{'Ciao'}\n",
      "<class 'set'>\n"
     ]
    }
   ],
   "source": [
    "#Set - 1.1 - Create un set con un elemento di tipo set contenente un elemento di tipo str\n",
    "\n",
    "s = {\"Ciao\"}\n",
    "print(s)\n",
    "print(type(s))"
   ]
  },
  {
   "cell_type": "code",
   "execution_count": 6,
   "id": "084effbf",
   "metadata": {},
   "outputs": [
    {
     "name": "stdout",
     "output_type": "stream",
     "text": [
      "{(1, 2)}\n",
      "<class 'set'>\n"
     ]
    }
   ],
   "source": [
    "#Set - 1.2 - Create un set con un elemento di tipo set contenente un elemento di tipo tuple\n",
    "\n",
    "s = {(1, 2)}\n",
    "print(s)\n",
    "print(type(s))"
   ]
  },
  {
   "cell_type": "code",
   "execution_count": 7,
   "id": "b03788dd",
   "metadata": {},
   "outputs": [
    {
     "name": "stdout",
     "output_type": "stream",
     "text": [
      "<class 'dict'>\n"
     ]
    }
   ],
   "source": [
    "#Set - 1.3 - Create un oggetto {} e passatelo alla funzione type()\n",
    "\n",
    "d = {}\n",
    "print(type(d))"
   ]
  },
  {
   "cell_type": "code",
   "execution_count": 8,
   "id": "36649ab0",
   "metadata": {},
   "outputs": [
    {
     "name": "stdout",
     "output_type": "stream",
     "text": [
      "{1, 2, 3}\n",
      "{2, 3}\n",
      "set()\n"
     ]
    }
   ],
   "source": [
    "#Set - 1.4 - Create un set e utilizzate i metodi pop() e clear()\n",
    "\n",
    "s = {1, 2, 3}\n",
    "print(s)\n",
    "\n",
    "#Pop - Rimuove dalla lista l'elemento che si trova all'indice dato e restituisce l'elemento rimosso.\n",
    "s.pop()\n",
    "print(s)\n",
    "\n",
    "#Clear - Rimuove tutti gli oggetti della lista\n",
    "s.clear()\n",
    "print(s)"
   ]
  },
  {
   "cell_type": "code",
   "execution_count": 9,
   "id": "857b2624",
   "metadata": {},
   "outputs": [
    {
     "name": "stdout",
     "output_type": "stream",
     "text": [
      "L'unione dei due set è {1, 2, 3, 4, 5, 6, 7, 8}\n",
      "\n",
      "L'interesezione dei due set è {4, 5}\n",
      "\n",
      "La differenza del set A con B è {1, 2, 3}\n",
      "La differenza del set B con A è {8, 6, 7}\n",
      "\n",
      "La differenza simmetrica dei due set è {1, 2, 3, 6, 7, 8}\n"
     ]
    }
   ],
   "source": [
    "#Set - 2 - Dati i due set: A = {1,2,3,4,5}, B = {4,5,6,7,8}\n",
    "#svolgete le quattro operazioni tra set utilizzando i metodi union() intersection() difference() e symmetric_difference()\n",
    "\n",
    "A = {1,2,3,4,5}\n",
    "B = {4,5,6,7,8}\n",
    "\n",
    "#Union - Restituisce un insieme che contiene tutti gli elementi tra due o più insiemi\n",
    "print(\"L'unione dei due set è \" + str(A.union(B)) + \"\\n\")\n",
    "\n",
    "# Intersection - Restituisce un insieme che contiene la somiglianza tra due o più insiemi\n",
    "print(\"L'interesezione dei due set è \" + str(A.intersection(B)) + \"\\n\")\n",
    "\n",
    "# Difference - Restituisce un insieme che è la differenza tra due insiemi\n",
    "print(\"La differenza del set A con B è \" + str(A.difference(B)))\n",
    "print(\"La differenza del set B con A è \" + str(B.difference(A)) + \"\\n\")\n",
    "\n",
    "#Symmetric Difference - Restituisce la differenza simmetrica di due insiemi\n",
    "print(\"La differenza simmetrica dei due set è \" + str(A.symmetric_difference(B)))"
   ]
  },
  {
   "cell_type": "code",
   "execution_count": 10,
   "id": "28752e80",
   "metadata": {},
   "outputs": [
    {
     "name": "stdout",
     "output_type": "stream",
     "text": [
      "3\n"
     ]
    }
   ],
   "source": [
    "#Dizionari - 1 - Create un dizionario e passatelo come argomento alla funzione len()\n",
    "\n",
    "d = {'key1': 1, 'key2': 2, 'key3': 3}\n",
    "\n",
    "#Len - Restituisce la lunghezza di un oggetto\n",
    "print(len(d))"
   ]
  },
  {
   "cell_type": "code",
   "execution_count": 11,
   "id": "fe0337e4",
   "metadata": {},
   "outputs": [
    {
     "name": "stdout",
     "output_type": "stream",
     "text": [
      "{'key1': 1, 'key2': 2}\n"
     ]
    }
   ],
   "source": [
    "#Dizionari - 2 - Create un oggetto {} e riempitelo con due coppie chiave-valore\n",
    "\n",
    "d = {}\n",
    "d['key1'] = 1\n",
    "d['key2'] = 2\n",
    "print(d)"
   ]
  },
  {
   "cell_type": "code",
   "execution_count": 12,
   "id": "7f4a7359",
   "metadata": {},
   "outputs": [
    {
     "name": "stdout",
     "output_type": "stream",
     "text": [
      "dict_values([1, 2, 3])\n",
      "dict_items([('key1', 1), ('key2', 2), ('key3', 3)])\n",
      "2\n"
     ]
    }
   ],
   "source": [
    "#Dizionari - 3 - Create un dizionario e provate a utilizzare i metodi values(), items(), get()\n",
    "\n",
    "d = {'key1': 1, 'key2': 2, 'key3': 3}\n",
    "\n",
    "#Values - Restituisce un oggetto view con i valori del dizionario\n",
    "print(d.values())\n",
    "\n",
    "#Items - Restituisce un oggetto view che ontiene le coppie chiave-valore del dizionario, come tuple in un elenco\n",
    "print(d.items())\n",
    "\n",
    "#Get - Restituisce il valore dell'elemento con la chiave specificata\n",
    "print(d.get('key2'))\n"
   ]
  }
 ],
 "metadata": {
  "kernelspec": {
   "display_name": "Python 3 (ipykernel)",
   "language": "python",
   "name": "python3"
  },
  "language_info": {
   "codemirror_mode": {
    "name": "ipython",
    "version": 3
   },
   "file_extension": ".py",
   "mimetype": "text/x-python",
   "name": "python",
   "nbconvert_exporter": "python",
   "pygments_lexer": "ipython3",
   "version": "3.9.13"
  }
 },
 "nbformat": 4,
 "nbformat_minor": 5
}
